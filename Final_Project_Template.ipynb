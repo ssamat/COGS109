{
 "cells": [
  {
   "attachments": {},
   "cell_type": "markdown",
   "metadata": {},
   "source": [
    "## Exploring Flight Delays: A Data Modeling and Analysis Approach for Predicting Causes for Delays in Airline On-time Data"
   ]
  },
  {
   "attachments": {},
   "cell_type": "markdown",
   "metadata": {},
   "source": [
    "## Names"
   ]
  },
  {
   "attachments": {},
   "cell_type": "markdown",
   "metadata": {},
   "source": [
    "* Aditya Tomar\n",
    "* Shay Samat\n",
    "* Akhil Vasanth\n"
   ]
  },
  {
   "attachments": {},
   "cell_type": "markdown",
   "metadata": {},
   "source": [
    "<a id='Introduction'></a>\n",
    "# Introduction"
   ]
  },
  {
   "attachments": {},
   "cell_type": "markdown",
   "metadata": {},
   "source": [
    "* Define the real problem and explain its motivation\n",
    "Identify the dataset you will use and explain its key characteristics.\n",
    "Explain at least one hypothesis that you will test.\n",
    "\n"
   ]
  },
  {
   "attachments": {},
   "cell_type": "markdown",
   "metadata": {},
   "source": [
    "## Methods"
   ]
  },
  {
   "attachments": {},
   "cell_type": "markdown",
   "metadata": {},
   "source": [
    "Identify the data analysis approach you will use and explain the rationale/motivation for your choice of this approach. Clearly state whether you are focusing on prediction or inference. Explain why the model class you have chosen is appropriate for the data and questions in your project.\n",
    "\n",
    "We are using Logistic Regression with sigmoid function and KNN"
   ]
  },
  {
   "attachments": {},
   "cell_type": "markdown",
   "metadata": {},
   "source": [
    "# Results\n"
   ]
  },
  {
   "attachments": {},
   "cell_type": "markdown",
   "metadata": {},
   "source": [
    "* Model selection. You MUST compare at least 2 models, using cross-validation, regularization, and/or other relevant techniques.\n",
    "* Model estimation. What are the final parameter estimates? What is the final accuracy of the model’s predictions?\n"
   ]
  },
  {
   "attachments": {},
   "cell_type": "markdown",
   "metadata": {},
   "source": [
    "# Conclusions and discussion"
   ]
  },
  {
   "attachments": {},
   "cell_type": "markdown",
   "metadata": {},
   "source": [
    "What can you conclude about your hypothesis? (Note that negative or ambiguous results are perfectly acceptable, you just need to explain what you found.) What are some potential implications/next steps for researchers interested in this topic?"
   ]
  },
  {
   "attachments": {},
   "cell_type": "markdown",
   "metadata": {},
   "source": [
    "# Rubric"
   ]
  },
  {
   "attachments": {},
   "cell_type": "markdown",
   "metadata": {},
   "source": [
    "Introduction and hypotheses\n",
    "Introduction explaining the motivation/significance of the project. Identify and explain the dataset you will use, including clearly stating the number of observations (n) and predictors (p). Explain at least one hypothesis that you will test.\n",
    "\n",
    "Methods - cross-validation\n",
    "Explain what form of cross-validation you will use. Give a clear explanation, including any procedures you will use for randomizing the order of observations, splitting testing and training sets. It is NOT sufficient to simply reference a Python library; you must explain how the library actually performs the cross-validation.\n",
    "\n",
    "Methods\n",
    "Identify the data analysis approach you will use and explain the rationale/motivation for your choice of this approach. Clearly state whether you are focusing on prediction or inference. Explain why the model class you have chosen is appropriate for the data and questions in your project.\n",
    "\n",
    "Results - model selection\n",
    "Your results must include at least two different models or analyses of the same data, with an objective comparison/evaluation of the relative merit of the two approaches. You must use cross-validation for this model comparison. Note that the models you compare can be very similar, e.g. fitting a regression with 2 explanatory (independent) variables vs. 3 variables. Show a graph or table (as appropriate) to illustrate the objective model comparison you performed, and explain why you chose the final model. This section should discuss the complexity/flexibility of the different models. You should also discuss whether any of the models you studied showed evidence of overfitting.\n",
    "\n",
    "Results - model estimation\n",
    "What are the final parameter estimates (obtained using the full dataset)? What is the final accuracy of the model’s predictions?\n",
    "\n",
    "Include at least one figure to visualize your results. Your figure should be fully labeled and self-explanatory, with axis labels and a figure legend.\n",
    "\n",
    "Discussion\n",
    "What can you conclude about your hypothesis? (Note that negative or ambiguous results are perfectly acceptable, you just need to explain what you found.) What are some potential implications/next steps for researchers interested in this topic?\n",
    "\n"
   ]
  },
  {
   "cell_type": "markdown",
   "metadata": {},
   "source": []
  }
 ],
 "metadata": {
  "kernelspec": {
   "display_name": "venv",
   "language": "python",
   "name": "python3"
  },
  "language_info": {
   "name": "python",
   "version": "3.9.15"
  },
  "orig_nbformat": 4
 },
 "nbformat": 4,
 "nbformat_minor": 2
}
