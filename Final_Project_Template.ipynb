{
 "cells": [
  {
   "attachments": {},
   "cell_type": "markdown",
   "metadata": {},
   "source": [
    "## Exploring Flight Delays: A Data Modeling and Analysis Approach for Predicting Causes for Delays in Airline On-time Data"
   ]
  },
  {
   "attachments": {},
   "cell_type": "markdown",
   "metadata": {},
   "source": [
    "## Names"
   ]
  },
  {
   "attachments": {},
   "cell_type": "markdown",
   "metadata": {},
   "source": [
    "* Aditya Tomar\n",
    "* Shay Samat\n",
    "* Akhil Vasanth\n"
   ]
  },
  {
   "attachments": {},
   "cell_type": "markdown",
   "metadata": {},
   "source": [
    "# Preprocessing"
   ]
  },
  {
   "cell_type": "code",
   "execution_count": null,
   "metadata": {},
   "outputs": [],
   "source": [
    "#imports\n",
    "import pandas as pd\n",
    "import numpy as np\n",
    "import seaborn as sns\n",
    "from statsmodels.formula.api import logit\n",
    "from sklearn.neighbors import KNeighborsClassifier\n",
    "from sklearn.model_selection import train_test_split\n",
    "import matplotlib.pyplot as plt\n",
    "from sklearn.preprocessing import StandardScaler\n",
    "from sklearn.model_selection import GridSearchCV\n"
   ]
  },
  {
   "cell_type": "code",
   "execution_count": null,
   "metadata": {},
   "outputs": [],
   "source": [
    "csv_files = []\n",
    "years = [2018, 2019, 2022]\n",
    "months = ['01', '02', '03', '04', '05', '06', '07', '08', '09', '10', '11', '12']\n",
    "\n",
    "for year in years:\n",
    "    for month in months:\n",
    "        csv_file = \"data/{:02d}_{}.csv\".format(int(month), year)\n",
    "        csv_files.append(csv_file)\n",
    "\n",
    "dfs = []\n",
    "\n",
    "for csv_file in csv_files:\n",
    "    df = pd.read_csv(csv_file, low_memory=False)\n",
    "    dfs.append(df)\n",
    "\n",
    "flights = pd.concat(dfs, ignore_index=True)\n",
    "flights.head()\n"
   ]
  },
  {
   "cell_type": "code",
   "execution_count": null,
   "metadata": {},
   "outputs": [],
   "source": [
    "# dropping columns/features we aren't using\n",
    "flights = flights.drop([\"ORIGIN_STATE_ABR\", \"DEST_STATE_ABR\",\"ORIGIN_STATE_NM\",\"DEST_STATE_NM\"], axis=1)\n"
   ]
  },
  {
   "cell_type": "code",
   "execution_count": null,
   "metadata": {},
   "outputs": [],
   "source": [
    "#creating a month feature and year feature\n",
    "flights['MONTH'] = [int(row.split('/')[0]) for row in flights['FL_DATE']]\n",
    "flights['YEAR'] = [int(row.split('/')[2].split(' ')[0]) for row in flights['FL_DATE']]\n"
   ]
  },
  {
   "cell_type": "code",
   "execution_count": null,
   "metadata": {},
   "outputs": [],
   "source": [
    "delay_columns = [col for col in flights.columns if \"DELAY\" in col]\n",
    "flights[delay_columns] = flights[delay_columns].fillna(0)"
   ]
  },
  {
   "cell_type": "code",
   "execution_count": null,
   "metadata": {},
   "outputs": [],
   "source": [
    "#creating the TOTAL_DELAY feature, the sum of arrival and departure delay\n",
    "flights['TOTAL_DELAY'] = flights['ARR_DELAY_NEW'] + flights['DEP_DELAY_NEW']\n"
   ]
  },
  {
   "cell_type": "code",
   "execution_count": null,
   "metadata": {},
   "outputs": [],
   "source": [
    "#create the DELAY_STATUS variable, which we will use as our class labels for each sample\n",
    "\n",
    "delay_status = ['1' if (row > 0) else '0' for row in flights['TOTAL_DELAY']]\n",
    "flights['DELAY_STATUS'] = delay_status\n"
   ]
  },
  {
   "cell_type": "code",
   "execution_count": null,
   "metadata": {},
   "outputs": [],
   "source": [
    "#drop samples with missing/NaN values\n",
    "flights = flights.dropna()\n",
    "\n",
    "# Get the top 20 most common cities in 'ORIGIN_CITY_NAME'\n",
    "top_origin_cities = flights['ORIGIN_CITY_NAME'].value_counts().nlargest(25).index\n",
    "\n",
    "# Get the top 20 most common cities in 'DEST_CITY_NAME'\n",
    "top_dest_cities = flights['DEST_CITY_NAME'].value_counts().nlargest(25).index\n",
    "\n",
    "# Filter the DataFrame to include only the data for the top origin cities and top destination cities\n",
    "filtered_data = flights[(flights['ORIGIN_CITY_NAME'].isin(top_origin_cities)) & (flights['DEST_CITY_NAME'].isin(top_dest_cities))]\n",
    "\n"
   ]
  },
  {
   "cell_type": "code",
   "execution_count": null,
   "metadata": {},
   "outputs": [],
   "source": [
    "#random sample 50,000 datapoints\n",
    "filtered_data = filtered_data.sample(n=50000, replace = False, random_state = 42)\n",
    "\n"
   ]
  },
  {
   "cell_type": "code",
   "execution_count": null,
   "metadata": {},
   "outputs": [],
   "source": [
    "#One hot Encoding of Categorical Data\n",
    "\n",
    "# Perform one-hot encoding for 'ORIGIN_CITY_NAME' with the top origin cities\n",
    "origin_city_encoded = pd.get_dummies(filtered_data['ORIGIN_CITY_NAME'], prefix='OriginCity')\n",
    "\n",
    "# Perform one-hot encoding for 'DEST_CITY_NAME' with the top destination cities\n",
    "dest_city_encoded = pd.get_dummies(filtered_data['DEST_CITY_NAME'], prefix='DestCity')\n",
    "\n",
    "# Perform one-hot encoding for 'OP_UNIQUE_CARRIER'\n",
    "carrier_encoded = pd.get_dummies(filtered_data['OP_UNIQUE_CARRIER'], prefix='Carrier')\n",
    "\n",
    "# Perform one-hot encoding for 'MONTH'\n",
    "month_encoded = pd.get_dummies(filtered_data['MONTH'], prefix='Month')\n",
    "\n",
    "# Perform one-hot encoding for 'YEAR'\n",
    "year_encoded = pd.get_dummies(filtered_data['YEAR'], prefix='YEAR')\n",
    "\n",
    "# Concatenate the one-hot encoded columns with the original DataFrame\n",
    "encoded_data = pd.concat([filtered_data, origin_city_encoded, dest_city_encoded, carrier_encoded, month_encoded,\n",
    "                           year_encoded], axis=1)\n",
    "\n",
    "# Drop the original categorical columns from the encoded DataFrame\n",
    "encoded_data = encoded_data.drop(['ORIGIN_CITY_NAME', 'DEST_CITY_NAME', 'OP_UNIQUE_CARRIER'], axis=1)\n",
    "delay_columns = [col for col in flights.columns if \"DELAY\" in col]\n",
    "delay_columns.remove('DELAY_STATUS')\n",
    "encoded_data = encoded_data.drop(columns=delay_columns, axis=1)\n",
    "encoded_data = encoded_data.drop(columns=['FL_DATE', 'ACTUAL_ELAPSED_TIME', 'MONTH', 'YEAR'])\n",
    "\n",
    "\n",
    "# Scale the data\n",
    "\n",
    "encoded_data.columns"
   ]
  },
  {
   "attachments": {},
   "cell_type": "markdown",
   "metadata": {},
   "source": [
    "# EDA"
   ]
  },
  {
   "cell_type": "code",
   "execution_count": null,
   "metadata": {},
   "outputs": [],
   "source": [
    "# Distribution of departure delay\n",
    "plt.hist(flights['DEP_DELAY_NEW'], bins=100)\n",
    "plt.xlim(0,400)\n",
    "plt.xlabel('Departure Delay (minutes)')\n",
    "plt.ylabel('Frequency')\n",
    "plt.title('Distribution of Departure Delay')\n",
    "plt.show()"
   ]
  },
  {
   "cell_type": "code",
   "execution_count": null,
   "metadata": {},
   "outputs": [],
   "source": [
    "plt.scatter(flights['DEP_DELAY_NEW'], flights['ARR_DELAY_NEW'])\n",
    "plt.xlabel('Departure Delay (minutes)')\n",
    "plt.ylabel('Arrival Delay (minutes)')\n",
    "plt.title('Departure Delay vs. Arrival Delay')\n",
    "plt.show()"
   ]
  },
  {
   "cell_type": "code",
   "execution_count": null,
   "metadata": {},
   "outputs": [],
   "source": [
    "avg_dep_delay_by_city = flights.groupby('ORIGIN_CITY_NAME')['DEP_DELAY_NEW'].mean()"
   ]
  },
  {
   "cell_type": "code",
   "execution_count": null,
   "metadata": {},
   "outputs": [],
   "source": [
    "plt.figure(figsize=(12, 6))\n",
    "avg_dep_delay_by_city.sort_values(ascending=False)[-10:].plot(kind='bar')\n",
    "plt.xlabel('Top 10 Origin Cities with Lowest Delay')\n",
    "plt.ylabel('Average Departure Delay (minutes)')\n",
    "plt.title('Average Departure Delay by Origin City')\n",
    "plt.show()"
   ]
  },
  {
   "cell_type": "code",
   "execution_count": null,
   "metadata": {},
   "outputs": [],
   "source": [
    "plt.figure(figsize=(12, 6))\n",
    "avg_dep_delay_by_city.sort_values(ascending=False)[0:10].plot(kind='bar')\n",
    "plt.xlabel('Top 10 Origin Cities with Highest Delay')\n",
    "plt.ylabel('Average Departure Delay (minutes)')\n",
    "plt.title('Average Departure Delay by Origin City')\n",
    "plt.show()"
   ]
  },
  {
   "cell_type": "code",
   "execution_count": null,
   "metadata": {},
   "outputs": [],
   "source": [
    "correlation = flights[['TOTAL_DELAY', 'DISTANCE']].corr()\n",
    "print(correlation)"
   ]
  },
  {
   "attachments": {},
   "cell_type": "markdown",
   "metadata": {},
   "source": [
    "# Time series analysis - Total delay over time"
   ]
  },
  {
   "cell_type": "code",
   "execution_count": null,
   "metadata": {},
   "outputs": [],
   "source": [
    "# Comparison analysis - Average total delay by airline\n",
    "avg_delay_by_airline = flights.groupby('OP_UNIQUE_CARRIER')['TOTAL_DELAY'].mean().sort_values(ascending=False)\n",
    "plt.figure(figsize=(10, 6))\n",
    "sns.barplot(x=avg_delay_by_airline.index, y=avg_delay_by_airline.values)\n",
    "plt.xlabel('Airline')\n",
    "plt.ylabel('Average Total Delay (minutes)')\n",
    "plt.title('Average Total Delay by Airline')\n",
    "plt.xticks(rotation=45)\n",
    "plt.show()"
   ]
  },
  {
   "attachments": {},
   "cell_type": "markdown",
   "metadata": {},
   "source": [
    "# Scatter plot - Delay vs. distance"
   ]
  },
  {
   "cell_type": "code",
   "execution_count": null,
   "metadata": {},
   "outputs": [],
   "source": [
    "# Stacked bar plot - Delay components\n",
    "delay_components = ['CARRIER_DELAY', 'WEATHER_DELAY', 'NAS_DELAY', 'SECURITY_DELAY', 'LATE_AIRCRAFT_DELAY']\n",
    "delay_sums = flights[delay_components].sum()\n",
    "delay_components_times = []\n",
    "for component in delay_components:\n",
    "    delay_components_times.append(flights[component].mean())\n",
    "\n",
    "plt.figure(figsize=(12, 6))\n",
    "plt.bar(delay_components, delay_components_times)\n",
    "plt.xlabel('Delay Component')\n",
    "plt.ylabel('Time for Delay Component')\n",
    "plt.title('Average Delay Time by Delat Component')\n",
    "plt.show()"
   ]
  },
  {
   "cell_type": "code",
   "execution_count": null,
   "metadata": {},
   "outputs": [],
   "source": [
    "# Heatmap - Correlation matrix\n",
    "correlation_matrix = flights[['DEP_DELAY_NEW', 'ARR_DELAY_NEW', 'ACTUAL_ELAPSED_TIME', 'DISTANCE', 'TOTAL_DELAY']].corr()\n",
    "plt.figure(figsize=(8, 6))\n",
    "sns.heatmap(correlation_matrix, annot=True, cmap='coolwarm')\n",
    "plt.title('Correlation Matrix')\n",
    "plt.show()"
   ]
  },
  {
   "attachments": {},
   "cell_type": "markdown",
   "metadata": {},
   "source": [
    "# Model Selection/Estimation"
   ]
  },
  {
   "cell_type": "code",
   "execution_count": null,
   "metadata": {},
   "outputs": [],
   "source": [
    "X = encoded_data.drop(columns=[\"DELAY_STATUS\"])\n",
    "y = encoded_data['DELAY_STATUS']\n",
    "\n",
    "X_train, X_test, y_train, y_test = train_test_split(X,y,test_size=0.2,random_state=42)\n"
   ]
  },
  {
   "cell_type": "code",
   "execution_count": null,
   "metadata": {},
   "outputs": [],
   "source": [
    "from sklearn.svm import LinearSVC\n",
    "from sklearn.metrics import accuracy_score\n",
    "from sklearn.model_selection import cross_validate\n",
    "import numpy as np\n",
    "import matplotlib.pyplot as plt\n",
    "\n",
    "c_values = [1, 3, 5, 7, 10]\n",
    "coefs_list = []\n",
    "accuracies = []\n",
    "\n",
    "# Fit the models separately and save the coefficient estimates to a list\n",
    "for c in c_values:\n",
    "    svm_model = LinearSVC(C=c, max_iter = 10)\n",
    "    cv_scores = cross_validate(svm_model, X, y, cv=5, return_estimator=True)\n",
    "    estimators = cv_scores['estimator']\n",
    "    mean_score = cv_scores['test_score'].mean()\n",
    "\n",
    "\n",
    "    coefs = [estimator.coef_[0] for estimator in estimators]\n",
    "    avg_coefs = np.mean(coefs, axis=0)\n",
    "    \n",
    "    coefs_list.append(avg_coefs)\n",
    "    accuracies.append(mean_score)\n",
    "\n",
    "\n",
    "# Create separate plots for each C value\n",
    "num_features = len(coefs_list[0])\n",
    "num_c_values = len(c_values)\n",
    "fig, axes = plt.subplots(num_c_values, 1, figsize=(10, 6*num_c_values))\n",
    "\n",
    "# Plot the bar plots for each C value\n",
    "for i, ax in enumerate(axes):\n",
    "    coefs = coefs_list[i]\n",
    "    ax.bar(range(num_features), coefs)\n",
    "    ax.set_xlabel('Feature Index')\n",
    "    ax.set_ylabel('Parameter Estimate')\n",
    "    ax.set_title(f'C = {c_values[i]}')\n",
    "    ax.grid(True)\n",
    "\n",
    "plt.tight_layout()\n",
    "plt.show()\n"
   ]
  },
  {
   "cell_type": "code",
   "execution_count": null,
   "metadata": {},
   "outputs": [],
   "source": [
    "print(\"Top 10 Features With the Biggest Parameter Estimates For Each C Value(greatest to least): \\n\")\n",
    "for i in range(len(coefs_list)):\n",
    "    coefs = coefs_list[i]\n",
    "    top_ten_indices = np.argsort(coefs)[-10:]\n",
    "    top_ten_indices = np.flip(top_ten_indices)\n",
    "    top_ten_features = [list(X.columns)[i] for i in top_ten_indices]\n",
    "    \n",
    "    print(\"C = \" + str(c_values[i]) + \": \\n\" + str(top_ten_features))\n",
    "\n"
   ]
  },
  {
   "cell_type": "code",
   "execution_count": null,
   "metadata": {},
   "outputs": [],
   "source": [
    "# Plot the progression of C values against accuracy\n",
    "plt.plot(c_values, accuracies, label='Accuracy')\n",
    "plt.xlabel('C Values')\n",
    "plt.xticks(c_values)\n",
    "plt.ylabel('Accuracy')\n",
    "plt.title('Accuracy for Different C Values')\n",
    "\n",
    "plt.legend()"
   ]
  }
 ],
 "metadata": {
  "kernelspec": {
   "display_name": "venv",
   "language": "python",
   "name": "python3"
  },
  "language_info": {
   "codemirror_mode": {
    "name": "ipython",
    "version": 3
   },
   "file_extension": ".py",
   "mimetype": "text/x-python",
   "name": "python",
   "nbconvert_exporter": "python",
   "pygments_lexer": "ipython3",
   "version": "3.8.16"
  },
  "orig_nbformat": 4
 },
 "nbformat": 4,
 "nbformat_minor": 2
}
